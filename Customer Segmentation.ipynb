{
 "cells": [
  {
   "cell_type": "markdown",
   "id": "4798b627-8fbc-4eab-8fa9-ebd1368bae36",
   "metadata": {},
   "source": [
    "# Project Title:\n",
    "***Customer Segmentation (Week 4 Project)***  \n",
    "**Presented By-**\n",
    "*Ayush Singh*"
   ]
  },
  {
   "cell_type": "markdown",
   "id": "eb1a9ac7-7b2b-44c7-a13d-433a95b3cb50",
   "metadata": {},
   "source": [
    "# Domain :\n",
    "***E-Commerce***"
   ]
  },
  {
   "cell_type": "markdown",
   "id": "2e54642f-5ba6-4c8e-85ae-1dfbc20a8dae",
   "metadata": {},
   "source": [
    "# Description:\n",
    "***This notebook follows the Week 4 steps-***  \n",
    "*1. Collect and prepare data*  \n",
    "*2. Do simple analysis (EDA)*  \n",
    "*3. Use PCA to reduce data*  \n",
    "*4. Use K-Means to make groups (clusters)*  \n",
    "*5. Check best number of groups (Elbow & Silhouette)*  \n",
    "*6. Show the groups in a graph*  \n",
    "*7. Give simple insights*  "
   ]
  },
  {
   "cell_type": "markdown",
   "id": "62ce49a6-8476-481f-9364-9bd7b38db62e",
   "metadata": {},
   "source": [
    "## Step 1: Import libraries"
   ]
  },
  {
   "cell_type": "code",
   "execution_count": 2,
   "id": "cce82dca-b0c3-4ad0-a5b0-a50973d593d7",
   "metadata": {},
   "outputs": [],
   "source": [
    "import pandas as pd\n",
    "import numpy as np\n",
    "import matplotlib.pyplot as plt\n",
    "import seaborn as sns"
   ]
  },
  {
   "cell_type": "code",
   "execution_count": 3,
   "id": "998f2d1f-3b02-4774-bd90-6e8c26dd0440",
   "metadata": {},
   "outputs": [],
   "source": [
    "from sklearn.preprocessing import StandardScaler\n",
    "from sklearn.decomposition import PCA\n",
    "from sklearn.cluster import KMeans\n",
    "from sklearn.metrics import silhouette_score"
   ]
  },
  {
   "cell_type": "code",
   "execution_count": 4,
   "id": "5cb0e1a7-84b3-448f-8779-3775f774d621",
   "metadata": {},
   "outputs": [],
   "source": [
    "sns.set(style=\"whitegrid\")"
   ]
  },
  {
   "cell_type": "markdown",
   "id": "de2a9f71-3cd0-4285-aba5-1098e2877ea3",
   "metadata": {},
   "source": [
    "## Step 2: Load and clean data"
   ]
  },
  {
   "cell_type": "code",
   "execution_count": 5,
   "id": "ce145438-bef5-455c-a8d2-b2fc39ec0db0",
   "metadata": {},
   "outputs": [
    {
     "data": {
      "text/html": [
       "<div>\n",
       "<style scoped>\n",
       "    .dataframe tbody tr th:only-of-type {\n",
       "        vertical-align: middle;\n",
       "    }\n",
       "\n",
       "    .dataframe tbody tr th {\n",
       "        vertical-align: top;\n",
       "    }\n",
       "\n",
       "    .dataframe thead th {\n",
       "        text-align: right;\n",
       "    }\n",
       "</style>\n",
       "<table border=\"1\" class=\"dataframe\">\n",
       "  <thead>\n",
       "    <tr style=\"text-align: right;\">\n",
       "      <th></th>\n",
       "      <th>InvoiceNo</th>\n",
       "      <th>StockCode</th>\n",
       "      <th>Description</th>\n",
       "      <th>Quantity</th>\n",
       "      <th>InvoiceDate</th>\n",
       "      <th>UnitPrice</th>\n",
       "      <th>CustomerID</th>\n",
       "      <th>Country</th>\n",
       "    </tr>\n",
       "  </thead>\n",
       "  <tbody>\n",
       "    <tr>\n",
       "      <th>0</th>\n",
       "      <td>536365</td>\n",
       "      <td>85123A</td>\n",
       "      <td>WHITE HANGING HEART T-LIGHT HOLDER</td>\n",
       "      <td>6</td>\n",
       "      <td>2010-12-01 08:26:00</td>\n",
       "      <td>2.55</td>\n",
       "      <td>17850.0</td>\n",
       "      <td>United Kingdom</td>\n",
       "    </tr>\n",
       "    <tr>\n",
       "      <th>1</th>\n",
       "      <td>536365</td>\n",
       "      <td>71053</td>\n",
       "      <td>WHITE METAL LANTERN</td>\n",
       "      <td>6</td>\n",
       "      <td>2010-12-01 08:26:00</td>\n",
       "      <td>3.39</td>\n",
       "      <td>17850.0</td>\n",
       "      <td>United Kingdom</td>\n",
       "    </tr>\n",
       "    <tr>\n",
       "      <th>2</th>\n",
       "      <td>536365</td>\n",
       "      <td>84406B</td>\n",
       "      <td>CREAM CUPID HEARTS COAT HANGER</td>\n",
       "      <td>8</td>\n",
       "      <td>2010-12-01 08:26:00</td>\n",
       "      <td>2.75</td>\n",
       "      <td>17850.0</td>\n",
       "      <td>United Kingdom</td>\n",
       "    </tr>\n",
       "    <tr>\n",
       "      <th>3</th>\n",
       "      <td>536365</td>\n",
       "      <td>84029G</td>\n",
       "      <td>KNITTED UNION FLAG HOT WATER BOTTLE</td>\n",
       "      <td>6</td>\n",
       "      <td>2010-12-01 08:26:00</td>\n",
       "      <td>3.39</td>\n",
       "      <td>17850.0</td>\n",
       "      <td>United Kingdom</td>\n",
       "    </tr>\n",
       "    <tr>\n",
       "      <th>4</th>\n",
       "      <td>536365</td>\n",
       "      <td>84029E</td>\n",
       "      <td>RED WOOLLY HOTTIE WHITE HEART.</td>\n",
       "      <td>6</td>\n",
       "      <td>2010-12-01 08:26:00</td>\n",
       "      <td>3.39</td>\n",
       "      <td>17850.0</td>\n",
       "      <td>United Kingdom</td>\n",
       "    </tr>\n",
       "  </tbody>\n",
       "</table>\n",
       "</div>"
      ],
      "text/plain": [
       "  InvoiceNo StockCode                          Description  Quantity  \\\n",
       "0    536365    85123A   WHITE HANGING HEART T-LIGHT HOLDER         6   \n",
       "1    536365     71053                  WHITE METAL LANTERN         6   \n",
       "2    536365    84406B       CREAM CUPID HEARTS COAT HANGER         8   \n",
       "3    536365    84029G  KNITTED UNION FLAG HOT WATER BOTTLE         6   \n",
       "4    536365    84029E       RED WOOLLY HOTTIE WHITE HEART.         6   \n",
       "\n",
       "          InvoiceDate  UnitPrice  CustomerID         Country  \n",
       "0 2010-12-01 08:26:00       2.55     17850.0  United Kingdom  \n",
       "1 2010-12-01 08:26:00       3.39     17850.0  United Kingdom  \n",
       "2 2010-12-01 08:26:00       2.75     17850.0  United Kingdom  \n",
       "3 2010-12-01 08:26:00       3.39     17850.0  United Kingdom  \n",
       "4 2010-12-01 08:26:00       3.39     17850.0  United Kingdom  "
      ]
     },
     "execution_count": 5,
     "metadata": {},
     "output_type": "execute_result"
    }
   ],
   "source": [
    "# Load Data\n",
    "df = pd.read_excel(\"Online Retail.xlsx\")\n",
    "df.head()"
   ]
  },
  {
   "cell_type": "code",
   "execution_count": 6,
   "id": "93de91da-5da6-4201-857a-03477cda44aa",
   "metadata": {},
   "outputs": [
    {
     "data": {
      "text/plain": [
       "(541909, 8)"
      ]
     },
     "execution_count": 6,
     "metadata": {},
     "output_type": "execute_result"
    }
   ],
   "source": [
    "df.shape"
   ]
  },
  {
   "cell_type": "code",
   "execution_count": 7,
   "id": "fa25f168-a5d1-4d99-b45f-06edc0e2e57d",
   "metadata": {},
   "outputs": [
    {
     "data": {
      "text/plain": [
       "InvoiceNo           0\n",
       "StockCode           0\n",
       "Description      1454\n",
       "Quantity            0\n",
       "InvoiceDate         0\n",
       "UnitPrice           0\n",
       "CustomerID     135080\n",
       "Country             0\n",
       "dtype: int64"
      ]
     },
     "execution_count": 7,
     "metadata": {},
     "output_type": "execute_result"
    }
   ],
   "source": [
    "df.isnull().sum()"
   ]
  },
  {
   "cell_type": "code",
   "execution_count": 8,
   "id": "9b2fabb9-1478-4678-a875-21039cbe9849",
   "metadata": {},
   "outputs": [],
   "source": [
    "# Dropping rows where CustomerID is missing\n",
    "df = df.dropna(subset=['CustomerID'])"
   ]
  },
  {
   "cell_type": "code",
   "execution_count": 9,
   "id": "1b49b82a-b113-4390-a47a-5fa8f1739c3c",
   "metadata": {},
   "outputs": [],
   "source": [
    "# Removing cancelled invoices (those starting with \"C\")\n",
    "df = df[~df['InvoiceNo'].astype(str).str.startswith('C')]"
   ]
  },
  {
   "cell_type": "code",
   "execution_count": 10,
   "id": "d6a6d8ab-e6c0-4d94-ace8-6285f805b7b6",
   "metadata": {},
   "outputs": [],
   "source": [
    "# Keeping only positive Quantity and UnitPrice\n",
    "df = df[(df['Quantity'] > 0) & (df['UnitPrice'] > 0)]"
   ]
  },
  {
   "cell_type": "code",
   "execution_count": 11,
   "id": "4226dd5d-0232-4e43-acc6-21bccf0bafe1",
   "metadata": {},
   "outputs": [],
   "source": [
    "# Adding TotalPrice\n",
    "df['TotalPrice'] = df['Quantity'] * df['UnitPrice']"
   ]
  },
  {
   "cell_type": "code",
   "execution_count": 12,
   "id": "10dac4c6-99c1-44f4-99f4-626c878c3609",
   "metadata": {},
   "outputs": [
    {
     "name": "stdout",
     "output_type": "stream",
     "text": [
      "Data shape after cleaning: (397884, 9)\n"
     ]
    },
    {
     "data": {
      "text/html": [
       "<div>\n",
       "<style scoped>\n",
       "    .dataframe tbody tr th:only-of-type {\n",
       "        vertical-align: middle;\n",
       "    }\n",
       "\n",
       "    .dataframe tbody tr th {\n",
       "        vertical-align: top;\n",
       "    }\n",
       "\n",
       "    .dataframe thead th {\n",
       "        text-align: right;\n",
       "    }\n",
       "</style>\n",
       "<table border=\"1\" class=\"dataframe\">\n",
       "  <thead>\n",
       "    <tr style=\"text-align: right;\">\n",
       "      <th></th>\n",
       "      <th>InvoiceNo</th>\n",
       "      <th>StockCode</th>\n",
       "      <th>Description</th>\n",
       "      <th>Quantity</th>\n",
       "      <th>InvoiceDate</th>\n",
       "      <th>UnitPrice</th>\n",
       "      <th>CustomerID</th>\n",
       "      <th>Country</th>\n",
       "      <th>TotalPrice</th>\n",
       "    </tr>\n",
       "  </thead>\n",
       "  <tbody>\n",
       "    <tr>\n",
       "      <th>0</th>\n",
       "      <td>536365</td>\n",
       "      <td>85123A</td>\n",
       "      <td>WHITE HANGING HEART T-LIGHT HOLDER</td>\n",
       "      <td>6</td>\n",
       "      <td>2010-12-01 08:26:00</td>\n",
       "      <td>2.55</td>\n",
       "      <td>17850.0</td>\n",
       "      <td>United Kingdom</td>\n",
       "      <td>15.30</td>\n",
       "    </tr>\n",
       "    <tr>\n",
       "      <th>1</th>\n",
       "      <td>536365</td>\n",
       "      <td>71053</td>\n",
       "      <td>WHITE METAL LANTERN</td>\n",
       "      <td>6</td>\n",
       "      <td>2010-12-01 08:26:00</td>\n",
       "      <td>3.39</td>\n",
       "      <td>17850.0</td>\n",
       "      <td>United Kingdom</td>\n",
       "      <td>20.34</td>\n",
       "    </tr>\n",
       "    <tr>\n",
       "      <th>2</th>\n",
       "      <td>536365</td>\n",
       "      <td>84406B</td>\n",
       "      <td>CREAM CUPID HEARTS COAT HANGER</td>\n",
       "      <td>8</td>\n",
       "      <td>2010-12-01 08:26:00</td>\n",
       "      <td>2.75</td>\n",
       "      <td>17850.0</td>\n",
       "      <td>United Kingdom</td>\n",
       "      <td>22.00</td>\n",
       "    </tr>\n",
       "    <tr>\n",
       "      <th>3</th>\n",
       "      <td>536365</td>\n",
       "      <td>84029G</td>\n",
       "      <td>KNITTED UNION FLAG HOT WATER BOTTLE</td>\n",
       "      <td>6</td>\n",
       "      <td>2010-12-01 08:26:00</td>\n",
       "      <td>3.39</td>\n",
       "      <td>17850.0</td>\n",
       "      <td>United Kingdom</td>\n",
       "      <td>20.34</td>\n",
       "    </tr>\n",
       "    <tr>\n",
       "      <th>4</th>\n",
       "      <td>536365</td>\n",
       "      <td>84029E</td>\n",
       "      <td>RED WOOLLY HOTTIE WHITE HEART.</td>\n",
       "      <td>6</td>\n",
       "      <td>2010-12-01 08:26:00</td>\n",
       "      <td>3.39</td>\n",
       "      <td>17850.0</td>\n",
       "      <td>United Kingdom</td>\n",
       "      <td>20.34</td>\n",
       "    </tr>\n",
       "  </tbody>\n",
       "</table>\n",
       "</div>"
      ],
      "text/plain": [
       "  InvoiceNo StockCode                          Description  Quantity  \\\n",
       "0    536365    85123A   WHITE HANGING HEART T-LIGHT HOLDER         6   \n",
       "1    536365     71053                  WHITE METAL LANTERN         6   \n",
       "2    536365    84406B       CREAM CUPID HEARTS COAT HANGER         8   \n",
       "3    536365    84029G  KNITTED UNION FLAG HOT WATER BOTTLE         6   \n",
       "4    536365    84029E       RED WOOLLY HOTTIE WHITE HEART.         6   \n",
       "\n",
       "          InvoiceDate  UnitPrice  CustomerID         Country  TotalPrice  \n",
       "0 2010-12-01 08:26:00       2.55     17850.0  United Kingdom       15.30  \n",
       "1 2010-12-01 08:26:00       3.39     17850.0  United Kingdom       20.34  \n",
       "2 2010-12-01 08:26:00       2.75     17850.0  United Kingdom       22.00  \n",
       "3 2010-12-01 08:26:00       3.39     17850.0  United Kingdom       20.34  \n",
       "4 2010-12-01 08:26:00       3.39     17850.0  United Kingdom       20.34  "
      ]
     },
     "execution_count": 12,
     "metadata": {},
     "output_type": "execute_result"
    }
   ],
   "source": [
    "print(\"Data shape after cleaning:\", df.shape)\n",
    "df.head()"
   ]
  },
  {
   "cell_type": "markdown",
   "id": "97fb7daf-85c9-4dfe-9616-b2664d152105",
   "metadata": {},
   "source": [
    "## Step 3: Creating RFM table  \n",
    "- R = Recency (how many days since last purchase)\n",
    "- F = Frequency (how many orders)\n",
    "- M = Monetary (how much money spent)"
   ]
  },
  {
   "cell_type": "code",
   "execution_count": 13,
   "id": "4093a1c6-099e-4390-be3f-acb437c29d8c",
   "metadata": {},
   "outputs": [],
   "source": [
    "df['InvoiceDate'] = pd.to_datetime(df['InvoiceDate'])\n",
    "snapshot_date = df['InvoiceDate'].max() + pd.Timedelta(days=1)"
   ]
  },
  {
   "cell_type": "code",
   "execution_count": 14,
   "id": "8ca6445d-82be-4bc5-bb71-6ba5d1088003",
   "metadata": {},
   "outputs": [],
   "source": [
    "rfm = df.groupby('CustomerID').agg({\n",
    "    'InvoiceDate': lambda x: (snapshot_date - x.max()).days,\n",
    "    'InvoiceNo': 'nunique',\n",
    "    'TotalPrice': 'sum'\n",
    "}).reset_index()"
   ]
  },
  {
   "cell_type": "code",
   "execution_count": 15,
   "id": "21888cd4-654d-4a90-ae94-08cee221dbf4",
   "metadata": {},
   "outputs": [],
   "source": [
    "rfm = rfm.rename(columns={'InvoiceDate':'Recency','InvoiceNo':'Frequency','TotalPrice':'Monetary'})"
   ]
  },
  {
   "cell_type": "code",
   "execution_count": 16,
   "id": "06cb6a7b-5ad8-4676-828a-14bac473eb6c",
   "metadata": {},
   "outputs": [
    {
     "name": "stdout",
     "output_type": "stream",
     "text": [
      "RFM shape: (4338, 4)\n"
     ]
    },
    {
     "data": {
      "text/html": [
       "<div>\n",
       "<style scoped>\n",
       "    .dataframe tbody tr th:only-of-type {\n",
       "        vertical-align: middle;\n",
       "    }\n",
       "\n",
       "    .dataframe tbody tr th {\n",
       "        vertical-align: top;\n",
       "    }\n",
       "\n",
       "    .dataframe thead th {\n",
       "        text-align: right;\n",
       "    }\n",
       "</style>\n",
       "<table border=\"1\" class=\"dataframe\">\n",
       "  <thead>\n",
       "    <tr style=\"text-align: right;\">\n",
       "      <th></th>\n",
       "      <th>CustomerID</th>\n",
       "      <th>Recency</th>\n",
       "      <th>Frequency</th>\n",
       "      <th>Monetary</th>\n",
       "    </tr>\n",
       "  </thead>\n",
       "  <tbody>\n",
       "    <tr>\n",
       "      <th>0</th>\n",
       "      <td>12346.0</td>\n",
       "      <td>326</td>\n",
       "      <td>1</td>\n",
       "      <td>77183.60</td>\n",
       "    </tr>\n",
       "    <tr>\n",
       "      <th>1</th>\n",
       "      <td>12347.0</td>\n",
       "      <td>2</td>\n",
       "      <td>7</td>\n",
       "      <td>4310.00</td>\n",
       "    </tr>\n",
       "    <tr>\n",
       "      <th>2</th>\n",
       "      <td>12348.0</td>\n",
       "      <td>75</td>\n",
       "      <td>4</td>\n",
       "      <td>1797.24</td>\n",
       "    </tr>\n",
       "    <tr>\n",
       "      <th>3</th>\n",
       "      <td>12349.0</td>\n",
       "      <td>19</td>\n",
       "      <td>1</td>\n",
       "      <td>1757.55</td>\n",
       "    </tr>\n",
       "    <tr>\n",
       "      <th>4</th>\n",
       "      <td>12350.0</td>\n",
       "      <td>310</td>\n",
       "      <td>1</td>\n",
       "      <td>334.40</td>\n",
       "    </tr>\n",
       "  </tbody>\n",
       "</table>\n",
       "</div>"
      ],
      "text/plain": [
       "   CustomerID  Recency  Frequency  Monetary\n",
       "0     12346.0      326          1  77183.60\n",
       "1     12347.0        2          7   4310.00\n",
       "2     12348.0       75          4   1797.24\n",
       "3     12349.0       19          1   1757.55\n",
       "4     12350.0      310          1    334.40"
      ]
     },
     "execution_count": 16,
     "metadata": {},
     "output_type": "execute_result"
    }
   ],
   "source": [
    "print(\"RFM shape:\", rfm.shape)\n",
    "rfm.head()"
   ]
  },
  {
   "cell_type": "markdown",
   "id": "b0585359-68ac-4363-9196-c1c431981341",
   "metadata": {},
   "source": [
    " ## Step 4: Explore data (EDA)"
   ]
  },
  {
   "cell_type": "code",
   "execution_count": 17,
   "id": "ad79d5e2-aa65-4d9a-a7ca-47c121d68547",
   "metadata": {},
   "outputs": [
    {
     "name": "stdout",
     "output_type": "stream",
     "text": [
      "           Recency    Frequency       Monetary\n",
      "count  4338.000000  4338.000000    4338.000000\n",
      "mean     92.536422     4.272015    2054.266460\n",
      "std     100.014169     7.697998    8989.230441\n",
      "min       1.000000     1.000000       3.750000\n",
      "25%      18.000000     1.000000     307.415000\n",
      "50%      51.000000     2.000000     674.485000\n",
      "75%     142.000000     5.000000    1661.740000\n",
      "max     374.000000   209.000000  280206.020000\n"
     ]
    }
   ],
   "source": [
    "print(rfm[['Recency','Frequency','Monetary']].describe())"
   ]
  },
  {
   "cell_type": "code",
   "execution_count": 20,
   "id": "8c708917-9abf-4fb4-b671-a599dab8fd7f",
   "metadata": {},
   "outputs": [
    {
     "data": {
      "image/png": "[encoded data removed]",
      "text/plain": [
       "<Figure size 1500x400 with 3 Axes>"
      ]
     },
     "metadata": {},
     "output_type": "display_data"
    }
   ],
   "source": [
    "fig, axes = plt.subplots(1,3, figsize=(15,4))\n",
    "for i, col in enumerate(['Recency','Frequency','Monetary']):\n",
    "    sns.histplot(rfm[col], ax=axes[i], kde=False)\n",
    "    axes[i].set_title(col)\n",
    "plt.tight_layout()\n",
    "plt.show()"
   ]
  },
  {
   "cell_type": "markdown",
   "id": "8e53e5f8-4f25-4e20-90e7-0ee30e959669",
   "metadata": {},
   "source": [
    "## Step 5: Scale and use PCA"
   ]
  },
  {
   "cell_type": "code",
   "execution_count": 22,
   "id": "b8ab9ec2-fb28-456c-b76e-89441eb830bc",
   "metadata": {},
   "outputs": [],
   "source": [
    "scaler = StandardScaler()\n",
    "x_scale = scaler.fit_transform(rfm[['Recency','Frequency','Monetary']])"
   ]
  },
  {
   "cell_type": "code",
   "execution_count": 24,
   "id": "53d4c223-43bf-4e5e-8422-8b9ec7588008",
   "metadata": {},
   "outputs": [
    {
     "name": "stdout",
     "output_type": "stream",
     "text": [
      "PCA explained variance: [0.55502102 0.30249315]\n"
     ]
    }
   ],
   "source": [
    "pca = PCA(n_components=2,random_state=42)\n",
    "x_pca = pca.fit_transform(x_scale)\n",
    "print(\"PCA explained variance:\", pca.explained_variance_ratio_)"
   ]
  },
  {
   "cell_type": "code",
   "execution_count": 27,
   "id": "85aa65da-fe3b-4ad8-9955-b989f5742aeb",
   "metadata": {},
   "outputs": [
    {
     "data": {
      "image/png": "[encoded data removed]",
      "text/plain": [
       "<Figure size 640x480 with 1 Axes>"
      ]
     },
     "metadata": {},
     "output_type": "display_data"
    }
   ],
   "source": [
    "plt.scatter(x_pca[:,0], x_pca[:,1], s=30, alpha=0.6)\n",
    "plt.title(\"PCA (2D view of customers)\")\n",
    "plt.xlabel(\"PC1\")\n",
    "plt.ylabel(\"PC2\")\n",
    "plt.show()"
   ]
  },
  {
   "cell_type": "markdown",
   "id": "f39339ba-91f4-4ed2-bc0a-45127d5f5e27",
   "metadata": {},
   "source": [
    "## Step 6: Finding best number of groups (clusters)"
   ]
  },
  {
   "cell_type": "code",
   "execution_count": 28,
   "id": "3274242c-4f8b-4567-8697-6704bd398332",
   "metadata": {},
   "outputs": [],
   "source": [
    "wcss = []\n",
    "sil_scores = []\n",
    "K_range = range(2, 11)"
   ]
  },
  {
   "cell_type": "code",
   "execution_count": 30,
   "id": "0ff81fc0-f694-4750-b499-afaad613e178",
   "metadata": {},
   "outputs": [
    {
     "name": "stdout",
     "output_type": "stream",
     "text": [
      "k=2, WCSS=9013, Silhouette=0.896\n",
      "k=3, WCSS=5439, Silhouette=0.594\n",
      "k=4, WCSS=4092, Silhouette=0.616\n",
      "k=5, WCSS=3118, Silhouette=0.617\n",
      "k=6, WCSS=2473, Silhouette=0.596\n",
      "k=7, WCSS=2022, Silhouette=0.516\n",
      "k=8, WCSS=1742, Silhouette=0.517\n",
      "k=9, WCSS=1446, Silhouette=0.478\n",
      "k=10, WCSS=1303, Silhouette=0.427\n"
     ]
    }
   ],
   "source": [
    "for k in K_range:\n",
    "    km = KMeans(n_clusters=k, random_state=42, n_init=10)\n",
    "    labels = km.fit_predict(x_scale)\n",
    "    wcss.append(km.inertia_)\n",
    "    sil_scores.append(silhouette_score(x_scale, labels))\n",
    "    print(f\"k={k}, WCSS={km.inertia_:.0f}, Silhouette={sil_scores[-1]:.3f}\")\n"
   ]
  },
  {
   "cell_type": "code",
   "execution_count": 31,
   "id": "a2f71dcf-f656-4e8d-bd32-f5f50ab250e1",
   "metadata": {},
   "outputs": [
    {
     "data": {
      "text/plain": [
       "Text(0, 0.5, 'WCSS')"
      ]
     },
     "execution_count": 31,
     "metadata": {},
     "output_type": "execute_result"
    },
    {
     "data": {
      "image/png": "[encoded data removed]",
      "text/plain": [
       "<Figure size 1000x400 with 1 Axes>"
      ]
     },
     "metadata": {},
     "output_type": "display_data"
    }
   ],
   "source": [
    "plt.figure(figsize=(10,4))\n",
    "plt.subplot(1,2,1)\n",
    "plt.plot(K_range, wcss, marker='o')\n",
    "plt.title(\"Elbow Method (WCSS)\")\n",
    "plt.xlabel(\"k\"); plt.ylabel(\"WCSS\")"
   ]
  },
  {
   "cell_type": "code",
   "execution_count": 32,
   "id": "d77fca4a-3e54-4ec3-abfc-fb207ff36a40",
   "metadata": {},
   "outputs": [
    {
     "data": {
      "image/png": "[encoded data removed]",
      "text/plain": [
       "<Figure size 640x480 with 1 Axes>"
      ]
     },
     "metadata": {},
     "output_type": "display_data"
    }
   ],
   "source": [
    "plt.subplot(1,2,2)\n",
    "plt.plot(K_range, sil_scores, marker='o', color='green')\n",
    "plt.title(\"Silhouette Score\")\n",
    "plt.xlabel(\"k\"); plt.ylabel(\"Score\")\n",
    "plt.tight_layout()\n",
    "plt.show()"
   ]
  },
  {
   "cell_type": "markdown",
   "id": "6c7bfe70-fdf6-47ec-873e-6ea64951f602",
   "metadata": {},
   "source": [
    "## Step 7: Choosing k and make final groups"
   ]
  },
  {
   "cell_type": "code",
   "execution_count": 33,
   "id": "48087b2d-5fc7-4b68-b3d9-0e1fa0099cb9",
   "metadata": {},
   "outputs": [
    {
     "name": "stdout",
     "output_type": "stream",
     "text": [
      "Best k = 2\n"
     ]
    }
   ],
   "source": [
    "best_k = list(K_range)[np.argmax(sil_scores)]\n",
    "print(\"Best k =\", best_k)"
   ]
  },
  {
   "cell_type": "code",
   "execution_count": 35,
   "id": "522178ed-a9a0-4352-aa43-0798675818f4",
   "metadata": {},
   "outputs": [],
   "source": [
    "kmeans = KMeans(n_clusters=best_k, random_state=42, n_init=10)\n",
    "rfm['Cluster'] = kmeans.fit_predict(x_scale)"
   ]
  },
  {
   "cell_type": "code",
   "execution_count": 36,
   "id": "a94d7430-536a-4e34-8176-347e66be0c95",
   "metadata": {},
   "outputs": [
    {
     "data": {
      "text/plain": [
       "Cluster\n",
       "0    4312\n",
       "1      26\n",
       "Name: count, dtype: int64"
      ]
     },
     "execution_count": 36,
     "metadata": {},
     "output_type": "execute_result"
    }
   ],
   "source": [
    "rfm['Cluster'].value_counts()"
   ]
  },
  {
   "cell_type": "markdown",
   "id": "e2f90088-5897-4015-863c-2d7cec1c5207",
   "metadata": {},
   "source": [
    "## Step 8: Showing groups on graph"
   ]
  },
  {
   "cell_type": "code",
   "execution_count": 40,
   "id": "8e02820f-84ca-413d-811e-e182c899011d",
   "metadata": {},
   "outputs": [
    {
     "data": {
      "image/png": "[encoded data removed]",
      "text/plain": [
       "<Figure size 800x600 with 1 Axes>"
      ]
     },
     "metadata": {},
     "output_type": "display_data"
    }
   ],
   "source": [
    "plt.figure(figsize=(8,6))\n",
    "for c in range(best_k):\n",
    "    mask = (rfm['Cluster'] == c)\n",
    "    plt.scatter(x_pca[mask,0], x_pca[mask,1], s=40, label=f\"Cluster {c}\")\n",
    "centers = kmeans.cluster_centers_\n",
    "centers_pca = pca.transform(centers)\n",
    "plt.scatter(centers_pca[:,0], centers_pca[:,1], s=200, marker='X', edgecolor='k', linewidth=1.2, label='Centers')\n",
    "plt.title(f\"Customer Groups (k={best_k})\")\n",
    "plt.xlabel(\"PC1\"); plt.ylabel(\"PC2\")\n",
    "plt.legend()\n",
    "plt.show()"
   ]
  },
  {
   "cell_type": "code",
   "execution_count": null,
   "id": "52024b57-60c6-40e4-bf12-ee62fd544e4e",
   "metadata": {},
   "outputs": [],
   "source": []
  }
 ],
 "metadata": {
  "kernelspec": {
   "display_name": "Python 3 (ipykernel)",
   "language": "python",
   "name": "python3"
  },
  "language_info": {
   "codemirror_mode": {
    "name": "ipython",
    "version": 3
   },
   "file_extension": ".py",
   "mimetype": "text/x-python",
   "name": "python",
   "nbconvert_exporter": "python",
   "pygments_lexer": "ipython3",
   "version": "3.12.4"
  }
 },
 "nbformat": 4,
 "nbformat_minor": 5
}
